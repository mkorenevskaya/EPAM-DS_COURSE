{
 "cells": [
  {
   "cell_type": "markdown",
   "metadata": {},
   "source": [
    "# Задание 1. Описательные статистики"
   ]
  },
  {
   "cell_type": "markdown",
   "metadata": {},
   "source": [
    "## Задача\n",
    "\n",
    "Прежде, чем применять методы дисперсионного анализа или строить регрессионные модели, необходимо познакомиться с исходными данными для того, чтобы выбрать наиболее подходящий метод.\n",
    "\n",
    "Проведите описательный анализ исходных данных http://lib.stat.cmu.edu/DASL/Datafiles/Colleges.html\n",
    "\n",
    "(немного слов о самой задаче http://lib.stat.cmu.edu/DASL/Stories/ComparingColleges.html)\n",
    "\n",
    "Подсчет и визуализация описательных статистик, поиск и отсечение выбросов, решение проблемы с пропусками, взаимная корреляция."
   ]
  },
  {
   "cell_type": "markdown",
   "metadata": {},
   "source": [
    "## Решение"
   ]
  },
  {
   "cell_type": "markdown",
   "metadata": {},
   "source": [
    "Подключим необходимые библиотеки."
   ]
  },
  {
   "cell_type": "code",
   "execution_count": 68,
   "metadata": {},
   "outputs": [],
   "source": [
    "import matplotlib\n",
    "import matplotlib.pyplot as plt\n",
    "import numpy as np\n",
    "import pandas as pd\n",
    "import pandas_profiling\n",
    "\n",
    "from pandas.plotting import scatter_matrix"
   ]
  },
  {
   "cell_type": "markdown",
   "metadata": {},
   "source": [
    "Исходные данные были сохранены в формате .csv. Загрузим эти данные и посмотрим на них."
   ]
  },
  {
   "cell_type": "code",
   "execution_count": 176,
   "metadata": {},
   "outputs": [
    {
     "data": {
      "text/html": [
       "<div>\n",
       "<style>\n",
       "    .dataframe thead tr:only-child th {\n",
       "        text-align: right;\n",
       "    }\n",
       "\n",
       "    .dataframe thead th {\n",
       "        text-align: left;\n",
       "    }\n",
       "\n",
       "    .dataframe tbody tr th {\n",
       "        vertical-align: top;\n",
       "    }\n",
       "</style>\n",
       "<table border=\"1\" class=\"dataframe\">\n",
       "  <thead>\n",
       "    <tr style=\"text-align: right;\">\n",
       "      <th></th>\n",
       "      <th>School</th>\n",
       "      <th>School_Type</th>\n",
       "      <th>SAT</th>\n",
       "      <th>Acceptance</th>\n",
       "      <th>$/Student</th>\n",
       "      <th>Top 10%</th>\n",
       "      <th>%PhD</th>\n",
       "      <th>Grad%</th>\n",
       "    </tr>\n",
       "  </thead>\n",
       "  <tbody>\n",
       "    <tr>\n",
       "      <th>0</th>\n",
       "      <td>Amherst</td>\n",
       "      <td>Lib Arts</td>\n",
       "      <td>1315</td>\n",
       "      <td>22</td>\n",
       "      <td>26636</td>\n",
       "      <td>85</td>\n",
       "      <td>81</td>\n",
       "      <td>93</td>\n",
       "    </tr>\n",
       "    <tr>\n",
       "      <th>1</th>\n",
       "      <td>Swarthmore</td>\n",
       "      <td>Lib Arts</td>\n",
       "      <td>1310</td>\n",
       "      <td>24</td>\n",
       "      <td>27487</td>\n",
       "      <td>78</td>\n",
       "      <td>93</td>\n",
       "      <td>88</td>\n",
       "    </tr>\n",
       "    <tr>\n",
       "      <th>2</th>\n",
       "      <td>Williams</td>\n",
       "      <td>Lib Arts</td>\n",
       "      <td>1336</td>\n",
       "      <td>28</td>\n",
       "      <td>23772</td>\n",
       "      <td>86</td>\n",
       "      <td>90</td>\n",
       "      <td>93</td>\n",
       "    </tr>\n",
       "    <tr>\n",
       "      <th>3</th>\n",
       "      <td>Bowdoin</td>\n",
       "      <td>Lib Arts</td>\n",
       "      <td>1300</td>\n",
       "      <td>24</td>\n",
       "      <td>25703</td>\n",
       "      <td>78</td>\n",
       "      <td>95</td>\n",
       "      <td>90</td>\n",
       "    </tr>\n",
       "    <tr>\n",
       "      <th>4</th>\n",
       "      <td>Wellesley</td>\n",
       "      <td>Lib Arts</td>\n",
       "      <td>1250</td>\n",
       "      <td>49</td>\n",
       "      <td>27879</td>\n",
       "      <td>76</td>\n",
       "      <td>91</td>\n",
       "      <td>86</td>\n",
       "    </tr>\n",
       "  </tbody>\n",
       "</table>\n",
       "</div>"
      ],
      "text/plain": [
       "       School School_Type   SAT  Acceptance  $/Student  Top 10%  %PhD  Grad%\n",
       "0     Amherst    Lib Arts  1315          22      26636       85    81     93\n",
       "1  Swarthmore    Lib Arts  1310          24      27487       78    93     88\n",
       "2    Williams    Lib Arts  1336          28      23772       86    90     93\n",
       "3     Bowdoin    Lib Arts  1300          24      25703       78    95     90\n",
       "4   Wellesley    Lib Arts  1250          49      27879       76    91     86"
      ]
     },
     "execution_count": 176,
     "metadata": {},
     "output_type": "execute_result"
    }
   ],
   "source": [
    "df = pd.read_csv('task1_colleges.csv', sep='\\t')\n",
    "df.head()"
   ]
  },
  {
   "cell_type": "code",
   "execution_count": 21,
   "metadata": {},
   "outputs": [
    {
     "name": "stdout",
     "output_type": "stream",
     "text": [
      "(50, 8)\n",
      "School         object\n",
      "School_Type    object\n",
      "SAT             int64\n",
      "Acceptance      int64\n",
      "$/Student       int64\n",
      "Top 10%         int64\n",
      "%PhD            int64\n",
      "Grad%           int64\n",
      "dtype: object\n"
     ]
    }
   ],
   "source": [
    "print(df.shape)\n",
    "print(df.dtypes)"
   ]
  },
  {
   "cell_type": "markdown",
   "metadata": {},
   "source": [
    "Данные описываются 8 переменными, количество данных равно 50. Имеется два категориальных признака, остальные - числовые. Если посмотреть на данные целиком, то станет ясно, что пропусков в них нет.\n",
    "\n",
    "Посмотрим на значения некоторых основных статистик по нашим данным."
   ]
  },
  {
   "cell_type": "code",
   "execution_count": 22,
   "metadata": {},
   "outputs": [
    {
     "data": {
      "text/html": [
       "<div>\n",
       "<style>\n",
       "    .dataframe thead tr:only-child th {\n",
       "        text-align: right;\n",
       "    }\n",
       "\n",
       "    .dataframe thead th {\n",
       "        text-align: left;\n",
       "    }\n",
       "\n",
       "    .dataframe tbody tr th {\n",
       "        vertical-align: top;\n",
       "    }\n",
       "</style>\n",
       "<table border=\"1\" class=\"dataframe\">\n",
       "  <thead>\n",
       "    <tr style=\"text-align: right;\">\n",
       "      <th></th>\n",
       "      <th>School</th>\n",
       "      <th>School_Type</th>\n",
       "      <th>SAT</th>\n",
       "      <th>Acceptance</th>\n",
       "      <th>$/Student</th>\n",
       "      <th>Top 10%</th>\n",
       "      <th>%PhD</th>\n",
       "      <th>Grad%</th>\n",
       "    </tr>\n",
       "  </thead>\n",
       "  <tbody>\n",
       "    <tr>\n",
       "      <th>count</th>\n",
       "      <td>50</td>\n",
       "      <td>50</td>\n",
       "      <td>50.000000</td>\n",
       "      <td>50.000000</td>\n",
       "      <td>50.000000</td>\n",
       "      <td>50.000000</td>\n",
       "      <td>50.000000</td>\n",
       "      <td>50.000000</td>\n",
       "    </tr>\n",
       "    <tr>\n",
       "      <th>unique</th>\n",
       "      <td>50</td>\n",
       "      <td>2</td>\n",
       "      <td>NaN</td>\n",
       "      <td>NaN</td>\n",
       "      <td>NaN</td>\n",
       "      <td>NaN</td>\n",
       "      <td>NaN</td>\n",
       "      <td>NaN</td>\n",
       "    </tr>\n",
       "    <tr>\n",
       "      <th>top</th>\n",
       "      <td>Hamilton</td>\n",
       "      <td>Lib Arts</td>\n",
       "      <td>NaN</td>\n",
       "      <td>NaN</td>\n",
       "      <td>NaN</td>\n",
       "      <td>NaN</td>\n",
       "      <td>NaN</td>\n",
       "      <td>NaN</td>\n",
       "    </tr>\n",
       "    <tr>\n",
       "      <th>freq</th>\n",
       "      <td>1</td>\n",
       "      <td>25</td>\n",
       "      <td>NaN</td>\n",
       "      <td>NaN</td>\n",
       "      <td>NaN</td>\n",
       "      <td>NaN</td>\n",
       "      <td>NaN</td>\n",
       "      <td>NaN</td>\n",
       "    </tr>\n",
       "    <tr>\n",
       "      <th>mean</th>\n",
       "      <td>NaN</td>\n",
       "      <td>NaN</td>\n",
       "      <td>1263.960000</td>\n",
       "      <td>37.840000</td>\n",
       "      <td>30247.200000</td>\n",
       "      <td>74.440000</td>\n",
       "      <td>90.560000</td>\n",
       "      <td>83.480000</td>\n",
       "    </tr>\n",
       "    <tr>\n",
       "      <th>std</th>\n",
       "      <td>NaN</td>\n",
       "      <td>NaN</td>\n",
       "      <td>62.329591</td>\n",
       "      <td>13.363612</td>\n",
       "      <td>15266.172682</td>\n",
       "      <td>13.515162</td>\n",
       "      <td>8.258972</td>\n",
       "      <td>7.557237</td>\n",
       "    </tr>\n",
       "    <tr>\n",
       "      <th>min</th>\n",
       "      <td>NaN</td>\n",
       "      <td>NaN</td>\n",
       "      <td>1109.000000</td>\n",
       "      <td>17.000000</td>\n",
       "      <td>17520.000000</td>\n",
       "      <td>47.000000</td>\n",
       "      <td>58.000000</td>\n",
       "      <td>61.000000</td>\n",
       "    </tr>\n",
       "    <tr>\n",
       "      <th>25%</th>\n",
       "      <td>NaN</td>\n",
       "      <td>NaN</td>\n",
       "      <td>1225.000000</td>\n",
       "      <td>25.750000</td>\n",
       "      <td>20182.250000</td>\n",
       "      <td>65.000000</td>\n",
       "      <td>86.250000</td>\n",
       "      <td>77.250000</td>\n",
       "    </tr>\n",
       "    <tr>\n",
       "      <th>50%</th>\n",
       "      <td>NaN</td>\n",
       "      <td>NaN</td>\n",
       "      <td>1264.000000</td>\n",
       "      <td>36.000000</td>\n",
       "      <td>24994.500000</td>\n",
       "      <td>76.500000</td>\n",
       "      <td>93.000000</td>\n",
       "      <td>85.500000</td>\n",
       "    </tr>\n",
       "    <tr>\n",
       "      <th>75%</th>\n",
       "      <td>NaN</td>\n",
       "      <td>NaN</td>\n",
       "      <td>1304.500000</td>\n",
       "      <td>47.750000</td>\n",
       "      <td>36803.750000</td>\n",
       "      <td>85.000000</td>\n",
       "      <td>97.750000</td>\n",
       "      <td>89.000000</td>\n",
       "    </tr>\n",
       "    <tr>\n",
       "      <th>max</th>\n",
       "      <td>NaN</td>\n",
       "      <td>NaN</td>\n",
       "      <td>1400.000000</td>\n",
       "      <td>67.000000</td>\n",
       "      <td>102262.000000</td>\n",
       "      <td>98.000000</td>\n",
       "      <td>100.000000</td>\n",
       "      <td>95.000000</td>\n",
       "    </tr>\n",
       "  </tbody>\n",
       "</table>\n",
       "</div>"
      ],
      "text/plain": [
       "          School School_Type          SAT  Acceptance      $/Student  \\\n",
       "count         50          50    50.000000   50.000000      50.000000   \n",
       "unique        50           2          NaN         NaN            NaN   \n",
       "top     Hamilton    Lib Arts          NaN         NaN            NaN   \n",
       "freq           1          25          NaN         NaN            NaN   \n",
       "mean         NaN         NaN  1263.960000   37.840000   30247.200000   \n",
       "std          NaN         NaN    62.329591   13.363612   15266.172682   \n",
       "min          NaN         NaN  1109.000000   17.000000   17520.000000   \n",
       "25%          NaN         NaN  1225.000000   25.750000   20182.250000   \n",
       "50%          NaN         NaN  1264.000000   36.000000   24994.500000   \n",
       "75%          NaN         NaN  1304.500000   47.750000   36803.750000   \n",
       "max          NaN         NaN  1400.000000   67.000000  102262.000000   \n",
       "\n",
       "          Top 10%        %PhD      Grad%  \n",
       "count   50.000000   50.000000  50.000000  \n",
       "unique        NaN         NaN        NaN  \n",
       "top           NaN         NaN        NaN  \n",
       "freq          NaN         NaN        NaN  \n",
       "mean    74.440000   90.560000  83.480000  \n",
       "std     13.515162    8.258972   7.557237  \n",
       "min     47.000000   58.000000  61.000000  \n",
       "25%     65.000000   86.250000  77.250000  \n",
       "50%     76.500000   93.000000  85.500000  \n",
       "75%     85.000000   97.750000  89.000000  \n",
       "max     98.000000  100.000000  95.000000  "
      ]
     },
     "execution_count": 22,
     "metadata": {},
     "output_type": "execute_result"
    }
   ],
   "source": [
    "df.describe(include='all')"
   ]
  },
  {
   "cell_type": "markdown",
   "metadata": {},
   "source": [
    "Вычислим также коэффициенты асимметрии и эксцесса."
   ]
  },
  {
   "cell_type": "code",
   "execution_count": 144,
   "metadata": {},
   "outputs": [
    {
     "name": "stdout",
     "output_type": "stream",
     "text": [
      "skewness:\n",
      "SAT: -0.16427835471447538 Acceptance: 0.3904075719306927 $/Student: 2.5679368975708283 Top 10%: -0.2493031440827578 %PhD: -1.4919976077212176 Grad%: -0.7714857223288459\n",
      "kurtosis:\n",
      "SAT: -0.11362944271553266 Acceptance: -0.8026029863562223 $/Student: 9.228787427591854 Top 10%: -0.7651677569429456 %PhD: 3.4842594469003085 Grad%: 0.16802034597960924\n"
     ]
    }
   ],
   "source": [
    "print\n",
    "print('skewness:')\n",
    "print('SAT:', df['SAT'].skew(), 'Acceptance:', df['Acceptance'].skew(), '$/Student:', df['$/Student'].skew(),\n",
    "      'Top 10%:', df['Top 10%'].skew(), '%PhD:', df['%PhD'].skew(), 'Grad%:', df['Grad%'].skew())\n",
    "print('kurtosis:')\n",
    "print('SAT:', df['SAT'].kurt(), 'Acceptance:', df['Acceptance'].kurt(), '$/Student:', df['$/Student'].kurt(),\n",
    "      'Top 10%:', df['Top 10%'].kurt(), '%PhD:', df['%PhD'].kurt(), 'Grad%:', df['Grad%'].kurt())"
   ]
  },
  {
   "cell_type": "markdown",
   "metadata": {},
   "source": [
    "Можно сделать несколько выводов: \n",
    "* каждое учебное заведение встречается в списке ровно один раз (что логично)\n",
    "* университетов и школ искусств в имеющейся таблице поровну\n",
    "* распределения ''\\$/Student'' и ''%PhD'' довольно сильно скошены\n",
    "* судя по различиям в значениях среднего и медианы, в некоторых данных (''\\$/Student'', ''%PhD'') могут иметься выбросы.\n",
    "\n",
    "Если посмотреть на максимальное значение ''\\$/Student'', а также на минимальное значения в ''%PhD'', то можно заметить, что они отклоняются от соответствущих квартилей довольно сильно (сильнее, чем на $1.5*IQR$).\n",
    "\n",
    "Действительно, $102262 > 36803.75 + 1.5 * (36803.75 - 20182.25) = 61736$ для ''\\$/Student'' и $58 < 86.25 - 1.5 * (97.75 - 86.25) = 69$ для ''%PhD''.\n",
    "Скорее всего, эти значения являются выбросами.\n",
    "\n",
    "Что касается остальных признаков, то можно предположить, что выбросов там нет.\n",
    "\n",
    "Однако лучше построить гистограммы имеющихся количественных признаков и боксплоты, чтобы изучить их более внимательно."
   ]
  },
  {
   "cell_type": "code",
   "execution_count": 93,
   "metadata": {
    "collapsed": true
   },
   "outputs": [],
   "source": [
    "%matplotlib inline"
   ]
  },
  {
   "cell_type": "code",
   "execution_count": 111,
   "metadata": {},
   "outputs": [
    {
     "data": {
      "text/plain": [
       "<matplotlib.text.Text at 0x1ac9d4050f0>"
      ]
     },
     "execution_count": 111,
     "metadata": {},
     "output_type": "execute_result"
    },
    {
     "data": {
      "image/png": "[encoded data removed]",
      "text/plain": [
       "<matplotlib.figure.Figure at 0x1ac9d534550>"
      ]
     },
     "metadata": {},
     "output_type": "display_data"
    }
   ],
   "source": [
    "df['SAT'].hist()\n",
    "plt.title('SAT')"
   ]
  },
  {
   "cell_type": "code",
   "execution_count": 151,
   "metadata": {},
   "outputs": [
    {
     "data": {
      "text/plain": [
       "<matplotlib.axes._subplots.AxesSubplot at 0x1aca262b400>"
      ]
     },
     "execution_count": 151,
     "metadata": {},
     "output_type": "execute_result"
    },
    {
     "data": {
      "image/png": "[encoded data removed]",
      "text/plain": [
       "<matplotlib.figure.Figure at 0x1aca240af98>"
      ]
     },
     "metadata": {},
     "output_type": "display_data"
    }
   ],
   "source": [
    "df.boxplot(column=['SAT'])"
   ]
  },
  {
   "cell_type": "markdown",
   "metadata": {},
   "source": [
    "Распределение 'SAT' очень похоже на нормальное, выбросов нет."
   ]
  },
  {
   "cell_type": "code",
   "execution_count": 150,
   "metadata": {},
   "outputs": [
    {
     "data": {
      "text/plain": [
       "<matplotlib.text.Text at 0x1aca25c5c50>"
      ]
     },
     "execution_count": 150,
     "metadata": {},
     "output_type": "execute_result"
    },
    {
     "data": {
      "image/png": "[encoded data removed]",
      "text/plain": [
       "<matplotlib.figure.Figure at 0x1aca251a5c0>"
      ]
     },
     "metadata": {},
     "output_type": "display_data"
    }
   ],
   "source": [
    "df['Acceptance'].hist()\n",
    "plt.title('Acceptance')"
   ]
  },
  {
   "cell_type": "code",
   "execution_count": 152,
   "metadata": {},
   "outputs": [
    {
     "data": {
      "text/plain": [
       "<matplotlib.axes._subplots.AxesSubplot at 0x1aca24251d0>"
      ]
     },
     "execution_count": 152,
     "metadata": {},
     "output_type": "execute_result"
    },
    {
     "data": {
      "image/png": "[encoded data removed]",
      "text/plain": [
       "<matplotlib.figure.Figure at 0x1aca0e0f400>"
      ]
     },
     "metadata": {},
     "output_type": "display_data"
    }
   ],
   "source": [
    "df.boxplot(column=['Acceptance'])"
   ]
  },
  {
   "cell_type": "markdown",
   "metadata": {},
   "source": [
    "Распределение 'Acceptance' уже менее похоже на нормальное, чем предыдущее, однако выбросов там тоже нет."
   ]
  },
  {
   "cell_type": "code",
   "execution_count": 130,
   "metadata": {},
   "outputs": [
    {
     "data": {
      "text/plain": [
       "<matplotlib.text.Text at 0x1aca07af588>"
      ]
     },
     "execution_count": 130,
     "metadata": {},
     "output_type": "execute_result"
    },
    {
     "data": {
      "image/png": "[encoded data removed]",
      "text/plain": [
       "<matplotlib.figure.Figure at 0x1ac9e9309b0>"
      ]
     },
     "metadata": {},
     "output_type": "display_data"
    }
   ],
   "source": [
    "df['$/Student'].hist()\n",
    "plt.title('$/Student')"
   ]
  },
  {
   "cell_type": "code",
   "execution_count": 154,
   "metadata": {},
   "outputs": [
    {
     "data": {
      "text/plain": [
       "<matplotlib.axes._subplots.AxesSubplot at 0x1aca269d1d0>"
      ]
     },
     "execution_count": 154,
     "metadata": {},
     "output_type": "execute_result"
    },
    {
     "data": {
      "image/png": "[encoded data removed]",
      "text/plain": [
       "<matplotlib.figure.Figure at 0x1aca2710550>"
      ]
     },
     "metadata": {},
     "output_type": "display_data"
    }
   ],
   "source": [
    "df.boxplot(column=['$/Student'])"
   ]
  },
  {
   "cell_type": "markdown",
   "metadata": {},
   "source": [
    "Распределение признака '$/Student' сильно скошено влево и напоминает экспоненциальное.\n",
    "\n",
    "Причем гистограмма подтверждает предположение о наличии в данных выброса (который почему-то не отобразился на боксплоте явной точкой, однако границы, в которых строится боксплот, включают максимальное значение признака, т.е. выброс (102262))."
   ]
  },
  {
   "cell_type": "code",
   "execution_count": 136,
   "metadata": {},
   "outputs": [
    {
     "data": {
      "text/plain": [
       "<matplotlib.text.Text at 0x1aca0cb0a90>"
      ]
     },
     "execution_count": 136,
     "metadata": {},
     "output_type": "execute_result"
    },
    {
     "data": {
      "image/png": "[encoded data removed]",
      "text/plain": [
       "<matplotlib.figure.Figure at 0x1aca0c57550>"
      ]
     },
     "metadata": {},
     "output_type": "display_data"
    }
   ],
   "source": [
    "df['Top 10%'].hist()\n",
    "plt.title('Top 10%')"
   ]
  },
  {
   "cell_type": "code",
   "execution_count": 155,
   "metadata": {},
   "outputs": [
    {
     "data": {
      "text/plain": [
       "<matplotlib.axes._subplots.AxesSubplot at 0x1aca271af60>"
      ]
     },
     "execution_count": 155,
     "metadata": {},
     "output_type": "execute_result"
    },
    {
     "data": {
      "image/png": "[encoded data removed]",
      "text/plain": [
       "<matplotlib.figure.Figure at 0x1aca273e6d8>"
      ]
     },
     "metadata": {},
     "output_type": "display_data"
    }
   ],
   "source": [
    "df.boxplot(column=['Top 10%'])"
   ]
  },
  {
   "cell_type": "markdown",
   "metadata": {},
   "source": [
    "Приведенные выше данные для 'Top 10%' не содержат выбросов."
   ]
  },
  {
   "cell_type": "code",
   "execution_count": 145,
   "metadata": {},
   "outputs": [
    {
     "data": {
      "text/plain": [
       "<matplotlib.text.Text at 0x1aca225ec88>"
      ]
     },
     "execution_count": 145,
     "metadata": {},
     "output_type": "execute_result"
    },
    {
     "data": {
      "image/png": "[encoded data removed]",
      "text/plain": [
       "<matplotlib.figure.Figure at 0x1aca2294668>"
      ]
     },
     "metadata": {},
     "output_type": "display_data"
    }
   ],
   "source": [
    "df['%PhD'].hist()\n",
    "plt.title('%PhD')"
   ]
  },
  {
   "cell_type": "code",
   "execution_count": 156,
   "metadata": {},
   "outputs": [
    {
     "data": {
      "text/plain": [
       "<matplotlib.axes._subplots.AxesSubplot at 0x1aca27e0b38>"
      ]
     },
     "execution_count": 156,
     "metadata": {},
     "output_type": "execute_result"
    },
    {
     "data": {
      "image/png": "[encoded data removed]",
      "text/plain": [
       "<matplotlib.figure.Figure at 0x1aca2850b00>"
      ]
     },
     "metadata": {},
     "output_type": "display_data"
    }
   ],
   "source": [
    "df.boxplot(column=['%PhD'])"
   ]
  },
  {
   "cell_type": "markdown",
   "metadata": {},
   "source": [
    "Судя по гистограмме, в '%PhD' минимальный элемент является выбросом, как и было сказано ранее."
   ]
  },
  {
   "cell_type": "code",
   "execution_count": 146,
   "metadata": {},
   "outputs": [
    {
     "data": {
      "text/plain": [
       "<matplotlib.text.Text at 0x1aca2366668>"
      ]
     },
     "execution_count": 146,
     "metadata": {},
     "output_type": "execute_result"
    },
    {
     "data": {
      "image/png": "[encoded data removed]",
      "text/plain": [
       "<matplotlib.figure.Figure at 0x1aca231dd68>"
      ]
     },
     "metadata": {},
     "output_type": "display_data"
    }
   ],
   "source": [
    "df['Grad%'].hist()\n",
    "plt.title('Grad%')"
   ]
  },
  {
   "cell_type": "code",
   "execution_count": 157,
   "metadata": {},
   "outputs": [
    {
     "data": {
      "text/plain": [
       "<matplotlib.axes._subplots.AxesSubplot at 0x1aca2862b38>"
      ]
     },
     "execution_count": 157,
     "metadata": {},
     "output_type": "execute_result"
    },
    {
     "data": {
      "image/png": "[encoded data removed]",
      "text/plain": [
       "<matplotlib.figure.Figure at 0x1aca28f2320>"
      ]
     },
     "metadata": {},
     "output_type": "display_data"
    }
   ],
   "source": [
    "df.boxplot(column=['Grad%'])"
   ]
  },
  {
   "cell_type": "markdown",
   "metadata": {},
   "source": [
    "Здесь видно, что минимальный элемент похож на выброс, однако он отклоняется от первого квартиля меньше, чем на полтора интерквартильных размаха. Действительно, $61 > 77.25 - 1.5 * (89 - 77.25) = 59.625$. Этот элемент является скорее пограничным, чем явным выбросом (имеется не так много данных, чтобы говорить тут с уверенностью), но на всякий случай его тоже можно отбросить."
   ]
  },
  {
   "cell_type": "markdown",
   "metadata": {},
   "source": [
    "Теперь избавимся от выбросов (максимальное значение в '$/Student' и по одному минимальному значению из 'Grad%' и '%Phd'). Для этого удалим строки, содержащие значения с выбросами, из данных. Найдем, какие строки нам нужно удалить."
   ]
  },
  {
   "cell_type": "code",
   "execution_count": 179,
   "metadata": {},
   "outputs": [
    {
     "name": "stdout",
     "output_type": "stream",
     "text": [
      "Int64Index([29, 39, 41], dtype='int64')\n"
     ]
    }
   ],
   "source": [
    "print(df[(df['$/Student'] == max(df['$/Student'])) |\n",
    "           (df['Grad%'] == min(df['Grad%'])) |\n",
    "           (df['%PhD'] == min(df['%PhD']))].index)"
   ]
  },
  {
   "cell_type": "markdown",
   "metadata": {},
   "source": [
    "Это строки  с номерами 29, 39, 41 (если нумерация с нуля). Удалим их."
   ]
  },
  {
   "cell_type": "code",
   "execution_count": 180,
   "metadata": {},
   "outputs": [
    {
     "data": {
      "text/html": [
       "<div>\n",
       "<style>\n",
       "    .dataframe thead tr:only-child th {\n",
       "        text-align: right;\n",
       "    }\n",
       "\n",
       "    .dataframe thead th {\n",
       "        text-align: left;\n",
       "    }\n",
       "\n",
       "    .dataframe tbody tr th {\n",
       "        vertical-align: top;\n",
       "    }\n",
       "</style>\n",
       "<table border=\"1\" class=\"dataframe\">\n",
       "  <thead>\n",
       "    <tr style=\"text-align: right;\">\n",
       "      <th></th>\n",
       "      <th>School</th>\n",
       "      <th>School_Type</th>\n",
       "      <th>SAT</th>\n",
       "      <th>Acceptance</th>\n",
       "      <th>$/Student</th>\n",
       "      <th>Top 10%</th>\n",
       "      <th>%PhD</th>\n",
       "      <th>Grad%</th>\n",
       "    </tr>\n",
       "  </thead>\n",
       "  <tbody>\n",
       "    <tr>\n",
       "      <th>0</th>\n",
       "      <td>Amherst</td>\n",
       "      <td>Lib Arts</td>\n",
       "      <td>1315</td>\n",
       "      <td>22</td>\n",
       "      <td>26636</td>\n",
       "      <td>85</td>\n",
       "      <td>81</td>\n",
       "      <td>93</td>\n",
       "    </tr>\n",
       "    <tr>\n",
       "      <th>1</th>\n",
       "      <td>Swarthmore</td>\n",
       "      <td>Lib Arts</td>\n",
       "      <td>1310</td>\n",
       "      <td>24</td>\n",
       "      <td>27487</td>\n",
       "      <td>78</td>\n",
       "      <td>93</td>\n",
       "      <td>88</td>\n",
       "    </tr>\n",
       "    <tr>\n",
       "      <th>2</th>\n",
       "      <td>Williams</td>\n",
       "      <td>Lib Arts</td>\n",
       "      <td>1336</td>\n",
       "      <td>28</td>\n",
       "      <td>23772</td>\n",
       "      <td>86</td>\n",
       "      <td>90</td>\n",
       "      <td>93</td>\n",
       "    </tr>\n",
       "    <tr>\n",
       "      <th>3</th>\n",
       "      <td>Bowdoin</td>\n",
       "      <td>Lib Arts</td>\n",
       "      <td>1300</td>\n",
       "      <td>24</td>\n",
       "      <td>25703</td>\n",
       "      <td>78</td>\n",
       "      <td>95</td>\n",
       "      <td>90</td>\n",
       "    </tr>\n",
       "    <tr>\n",
       "      <th>4</th>\n",
       "      <td>Wellesley</td>\n",
       "      <td>Lib Arts</td>\n",
       "      <td>1250</td>\n",
       "      <td>49</td>\n",
       "      <td>27879</td>\n",
       "      <td>76</td>\n",
       "      <td>91</td>\n",
       "      <td>86</td>\n",
       "    </tr>\n",
       "    <tr>\n",
       "      <th>5</th>\n",
       "      <td>Pomona</td>\n",
       "      <td>Lib Arts</td>\n",
       "      <td>1320</td>\n",
       "      <td>33</td>\n",
       "      <td>26668</td>\n",
       "      <td>79</td>\n",
       "      <td>98</td>\n",
       "      <td>80</td>\n",
       "    </tr>\n",
       "    <tr>\n",
       "      <th>6</th>\n",
       "      <td>Wesleyan (CT)</td>\n",
       "      <td>Lib Arts</td>\n",
       "      <td>1290</td>\n",
       "      <td>35</td>\n",
       "      <td>19948</td>\n",
       "      <td>73</td>\n",
       "      <td>87</td>\n",
       "      <td>91</td>\n",
       "    </tr>\n",
       "    <tr>\n",
       "      <th>7</th>\n",
       "      <td>Middlebury</td>\n",
       "      <td>Lib Arts</td>\n",
       "      <td>1255</td>\n",
       "      <td>25</td>\n",
       "      <td>24718</td>\n",
       "      <td>65</td>\n",
       "      <td>89</td>\n",
       "      <td>92</td>\n",
       "    </tr>\n",
       "    <tr>\n",
       "      <th>8</th>\n",
       "      <td>Smith</td>\n",
       "      <td>Lib Arts</td>\n",
       "      <td>1195</td>\n",
       "      <td>57</td>\n",
       "      <td>25271</td>\n",
       "      <td>65</td>\n",
       "      <td>90</td>\n",
       "      <td>87</td>\n",
       "    </tr>\n",
       "    <tr>\n",
       "      <th>9</th>\n",
       "      <td>Davidson</td>\n",
       "      <td>Lib Arts</td>\n",
       "      <td>1230</td>\n",
       "      <td>36</td>\n",
       "      <td>17721</td>\n",
       "      <td>77</td>\n",
       "      <td>94</td>\n",
       "      <td>89</td>\n",
       "    </tr>\n",
       "    <tr>\n",
       "      <th>10</th>\n",
       "      <td>Vassar</td>\n",
       "      <td>Lib Arts</td>\n",
       "      <td>1287</td>\n",
       "      <td>43</td>\n",
       "      <td>20179</td>\n",
       "      <td>53</td>\n",
       "      <td>90</td>\n",
       "      <td>84</td>\n",
       "    </tr>\n",
       "    <tr>\n",
       "      <th>11</th>\n",
       "      <td>Carleton</td>\n",
       "      <td>Lib Arts</td>\n",
       "      <td>1300</td>\n",
       "      <td>40</td>\n",
       "      <td>19504</td>\n",
       "      <td>75</td>\n",
       "      <td>82</td>\n",
       "      <td>80</td>\n",
       "    </tr>\n",
       "    <tr>\n",
       "      <th>12</th>\n",
       "      <td>Claremont McKenna</td>\n",
       "      <td>Lib Arts</td>\n",
       "      <td>1260</td>\n",
       "      <td>36</td>\n",
       "      <td>20377</td>\n",
       "      <td>68</td>\n",
       "      <td>94</td>\n",
       "      <td>74</td>\n",
       "    </tr>\n",
       "    <tr>\n",
       "      <th>13</th>\n",
       "      <td>Oberlin</td>\n",
       "      <td>Lib Arts</td>\n",
       "      <td>1247</td>\n",
       "      <td>54</td>\n",
       "      <td>23591</td>\n",
       "      <td>64</td>\n",
       "      <td>98</td>\n",
       "      <td>77</td>\n",
       "    </tr>\n",
       "    <tr>\n",
       "      <th>14</th>\n",
       "      <td>Washington &amp; Lee</td>\n",
       "      <td>Lib Arts</td>\n",
       "      <td>1234</td>\n",
       "      <td>29</td>\n",
       "      <td>17998</td>\n",
       "      <td>61</td>\n",
       "      <td>89</td>\n",
       "      <td>78</td>\n",
       "    </tr>\n",
       "    <tr>\n",
       "      <th>15</th>\n",
       "      <td>Grinnell</td>\n",
       "      <td>Lib Arts</td>\n",
       "      <td>1244</td>\n",
       "      <td>67</td>\n",
       "      <td>22301</td>\n",
       "      <td>65</td>\n",
       "      <td>79</td>\n",
       "      <td>73</td>\n",
       "    </tr>\n",
       "    <tr>\n",
       "      <th>16</th>\n",
       "      <td>Mount Holyoke</td>\n",
       "      <td>Lib Arts</td>\n",
       "      <td>1200</td>\n",
       "      <td>61</td>\n",
       "      <td>23358</td>\n",
       "      <td>47</td>\n",
       "      <td>83</td>\n",
       "      <td>83</td>\n",
       "    </tr>\n",
       "    <tr>\n",
       "      <th>17</th>\n",
       "      <td>Colby</td>\n",
       "      <td>Lib Arts</td>\n",
       "      <td>1200</td>\n",
       "      <td>46</td>\n",
       "      <td>18872</td>\n",
       "      <td>52</td>\n",
       "      <td>75</td>\n",
       "      <td>84</td>\n",
       "    </tr>\n",
       "    <tr>\n",
       "      <th>18</th>\n",
       "      <td>Hamilton</td>\n",
       "      <td>Lib Arts</td>\n",
       "      <td>1215</td>\n",
       "      <td>38</td>\n",
       "      <td>20722</td>\n",
       "      <td>51</td>\n",
       "      <td>86</td>\n",
       "      <td>85</td>\n",
       "    </tr>\n",
       "    <tr>\n",
       "      <th>19</th>\n",
       "      <td>Bates</td>\n",
       "      <td>Lib Arts</td>\n",
       "      <td>1240</td>\n",
       "      <td>36</td>\n",
       "      <td>17554</td>\n",
       "      <td>58</td>\n",
       "      <td>81</td>\n",
       "      <td>88</td>\n",
       "    </tr>\n",
       "    <tr>\n",
       "      <th>20</th>\n",
       "      <td>Haverford</td>\n",
       "      <td>Lib Arts</td>\n",
       "      <td>1285</td>\n",
       "      <td>35</td>\n",
       "      <td>19418</td>\n",
       "      <td>71</td>\n",
       "      <td>91</td>\n",
       "      <td>87</td>\n",
       "    </tr>\n",
       "    <tr>\n",
       "      <th>21</th>\n",
       "      <td>Colgate</td>\n",
       "      <td>Lib Arts</td>\n",
       "      <td>1258</td>\n",
       "      <td>38</td>\n",
       "      <td>17520</td>\n",
       "      <td>61</td>\n",
       "      <td>78</td>\n",
       "      <td>85</td>\n",
       "    </tr>\n",
       "    <tr>\n",
       "      <th>22</th>\n",
       "      <td>Bryn Mawr</td>\n",
       "      <td>Lib Arts</td>\n",
       "      <td>1255</td>\n",
       "      <td>56</td>\n",
       "      <td>18847</td>\n",
       "      <td>70</td>\n",
       "      <td>81</td>\n",
       "      <td>84</td>\n",
       "    </tr>\n",
       "    <tr>\n",
       "      <th>23</th>\n",
       "      <td>Occidental</td>\n",
       "      <td>Lib Arts</td>\n",
       "      <td>1170</td>\n",
       "      <td>49</td>\n",
       "      <td>20192</td>\n",
       "      <td>54</td>\n",
       "      <td>93</td>\n",
       "      <td>72</td>\n",
       "    </tr>\n",
       "    <tr>\n",
       "      <th>24</th>\n",
       "      <td>Barnard</td>\n",
       "      <td>Lib Arts</td>\n",
       "      <td>1220</td>\n",
       "      <td>53</td>\n",
       "      <td>17653</td>\n",
       "      <td>69</td>\n",
       "      <td>98</td>\n",
       "      <td>80</td>\n",
       "    </tr>\n",
       "    <tr>\n",
       "      <th>25</th>\n",
       "      <td>Harvard</td>\n",
       "      <td>Univ</td>\n",
       "      <td>1370</td>\n",
       "      <td>18</td>\n",
       "      <td>46918</td>\n",
       "      <td>90</td>\n",
       "      <td>99</td>\n",
       "      <td>90</td>\n",
       "    </tr>\n",
       "    <tr>\n",
       "      <th>26</th>\n",
       "      <td>Stanford</td>\n",
       "      <td>Univ</td>\n",
       "      <td>1370</td>\n",
       "      <td>18</td>\n",
       "      <td>61921</td>\n",
       "      <td>92</td>\n",
       "      <td>96</td>\n",
       "      <td>88</td>\n",
       "    </tr>\n",
       "    <tr>\n",
       "      <th>27</th>\n",
       "      <td>Yale</td>\n",
       "      <td>Univ</td>\n",
       "      <td>1350</td>\n",
       "      <td>19</td>\n",
       "      <td>52468</td>\n",
       "      <td>90</td>\n",
       "      <td>97</td>\n",
       "      <td>93</td>\n",
       "    </tr>\n",
       "    <tr>\n",
       "      <th>28</th>\n",
       "      <td>Princeton</td>\n",
       "      <td>Univ</td>\n",
       "      <td>1340</td>\n",
       "      <td>17</td>\n",
       "      <td>48123</td>\n",
       "      <td>89</td>\n",
       "      <td>99</td>\n",
       "      <td>93</td>\n",
       "    </tr>\n",
       "    <tr>\n",
       "      <th>30</th>\n",
       "      <td>MIT</td>\n",
       "      <td>Univ</td>\n",
       "      <td>1357</td>\n",
       "      <td>30</td>\n",
       "      <td>56766</td>\n",
       "      <td>95</td>\n",
       "      <td>98</td>\n",
       "      <td>86</td>\n",
       "    </tr>\n",
       "    <tr>\n",
       "      <th>31</th>\n",
       "      <td>Duke</td>\n",
       "      <td>Univ</td>\n",
       "      <td>1310</td>\n",
       "      <td>25</td>\n",
       "      <td>39504</td>\n",
       "      <td>91</td>\n",
       "      <td>95</td>\n",
       "      <td>91</td>\n",
       "    </tr>\n",
       "    <tr>\n",
       "      <th>32</th>\n",
       "      <td>Dartmouth</td>\n",
       "      <td>Univ</td>\n",
       "      <td>1306</td>\n",
       "      <td>25</td>\n",
       "      <td>35804</td>\n",
       "      <td>86</td>\n",
       "      <td>100</td>\n",
       "      <td>95</td>\n",
       "    </tr>\n",
       "    <tr>\n",
       "      <th>33</th>\n",
       "      <td>Cornell</td>\n",
       "      <td>Univ</td>\n",
       "      <td>1280</td>\n",
       "      <td>30</td>\n",
       "      <td>37137</td>\n",
       "      <td>85</td>\n",
       "      <td>90</td>\n",
       "      <td>83</td>\n",
       "    </tr>\n",
       "    <tr>\n",
       "      <th>34</th>\n",
       "      <td>Columbia</td>\n",
       "      <td>Univ</td>\n",
       "      <td>1268</td>\n",
       "      <td>29</td>\n",
       "      <td>45879</td>\n",
       "      <td>78</td>\n",
       "      <td>93</td>\n",
       "      <td>90</td>\n",
       "    </tr>\n",
       "    <tr>\n",
       "      <th>35</th>\n",
       "      <td>U of Chicago</td>\n",
       "      <td>Univ</td>\n",
       "      <td>1300</td>\n",
       "      <td>45</td>\n",
       "      <td>38937</td>\n",
       "      <td>74</td>\n",
       "      <td>100</td>\n",
       "      <td>73</td>\n",
       "    </tr>\n",
       "    <tr>\n",
       "      <th>36</th>\n",
       "      <td>Brown</td>\n",
       "      <td>Univ</td>\n",
       "      <td>1281</td>\n",
       "      <td>24</td>\n",
       "      <td>24201</td>\n",
       "      <td>80</td>\n",
       "      <td>98</td>\n",
       "      <td>90</td>\n",
       "    </tr>\n",
       "    <tr>\n",
       "      <th>37</th>\n",
       "      <td>U Penn</td>\n",
       "      <td>Univ</td>\n",
       "      <td>1280</td>\n",
       "      <td>41</td>\n",
       "      <td>30882</td>\n",
       "      <td>87</td>\n",
       "      <td>99</td>\n",
       "      <td>86</td>\n",
       "    </tr>\n",
       "    <tr>\n",
       "      <th>38</th>\n",
       "      <td>Berkeley</td>\n",
       "      <td>Univ</td>\n",
       "      <td>1176</td>\n",
       "      <td>37</td>\n",
       "      <td>23665</td>\n",
       "      <td>95</td>\n",
       "      <td>93</td>\n",
       "      <td>68</td>\n",
       "    </tr>\n",
       "    <tr>\n",
       "      <th>40</th>\n",
       "      <td>Rice</td>\n",
       "      <td>Univ</td>\n",
       "      <td>1327</td>\n",
       "      <td>24</td>\n",
       "      <td>26730</td>\n",
       "      <td>85</td>\n",
       "      <td>95</td>\n",
       "      <td>88</td>\n",
       "    </tr>\n",
       "    <tr>\n",
       "      <th>42</th>\n",
       "      <td>U Va.</td>\n",
       "      <td>Univ</td>\n",
       "      <td>1218</td>\n",
       "      <td>37</td>\n",
       "      <td>19365</td>\n",
       "      <td>77</td>\n",
       "      <td>91</td>\n",
       "      <td>88</td>\n",
       "    </tr>\n",
       "    <tr>\n",
       "      <th>43</th>\n",
       "      <td>Georgetown</td>\n",
       "      <td>Univ</td>\n",
       "      <td>1278</td>\n",
       "      <td>24</td>\n",
       "      <td>23115</td>\n",
       "      <td>79</td>\n",
       "      <td>89</td>\n",
       "      <td>89</td>\n",
       "    </tr>\n",
       "    <tr>\n",
       "      <th>44</th>\n",
       "      <td>UNC</td>\n",
       "      <td>Univ</td>\n",
       "      <td>1109</td>\n",
       "      <td>32</td>\n",
       "      <td>19684</td>\n",
       "      <td>82</td>\n",
       "      <td>84</td>\n",
       "      <td>73</td>\n",
       "    </tr>\n",
       "    <tr>\n",
       "      <th>45</th>\n",
       "      <td>U Michican</td>\n",
       "      <td>Univ</td>\n",
       "      <td>1195</td>\n",
       "      <td>60</td>\n",
       "      <td>21853</td>\n",
       "      <td>71</td>\n",
       "      <td>93</td>\n",
       "      <td>77</td>\n",
       "    </tr>\n",
       "    <tr>\n",
       "      <th>46</th>\n",
       "      <td>Carnegie Mellon</td>\n",
       "      <td>Univ</td>\n",
       "      <td>1225</td>\n",
       "      <td>64</td>\n",
       "      <td>33607</td>\n",
       "      <td>52</td>\n",
       "      <td>84</td>\n",
       "      <td>77</td>\n",
       "    </tr>\n",
       "    <tr>\n",
       "      <th>47</th>\n",
       "      <td>Northwestern</td>\n",
       "      <td>Univ</td>\n",
       "      <td>1230</td>\n",
       "      <td>47</td>\n",
       "      <td>28851</td>\n",
       "      <td>77</td>\n",
       "      <td>79</td>\n",
       "      <td>82</td>\n",
       "    </tr>\n",
       "    <tr>\n",
       "      <th>48</th>\n",
       "      <td>Washington U (MO)</td>\n",
       "      <td>Univ</td>\n",
       "      <td>1225</td>\n",
       "      <td>54</td>\n",
       "      <td>39883</td>\n",
       "      <td>71</td>\n",
       "      <td>98</td>\n",
       "      <td>76</td>\n",
       "    </tr>\n",
       "    <tr>\n",
       "      <th>49</th>\n",
       "      <td>U of Rochester</td>\n",
       "      <td>Univ</td>\n",
       "      <td>1155</td>\n",
       "      <td>56</td>\n",
       "      <td>38597</td>\n",
       "      <td>52</td>\n",
       "      <td>96</td>\n",
       "      <td>73</td>\n",
       "    </tr>\n",
       "  </tbody>\n",
       "</table>\n",
       "</div>"
      ],
      "text/plain": [
       "               School School_Type   SAT  Acceptance  $/Student  Top 10%  %PhD  \\\n",
       "0             Amherst    Lib Arts  1315          22      26636       85    81   \n",
       "1          Swarthmore    Lib Arts  1310          24      27487       78    93   \n",
       "2            Williams    Lib Arts  1336          28      23772       86    90   \n",
       "3             Bowdoin    Lib Arts  1300          24      25703       78    95   \n",
       "4           Wellesley    Lib Arts  1250          49      27879       76    91   \n",
       "5              Pomona    Lib Arts  1320          33      26668       79    98   \n",
       "6       Wesleyan (CT)    Lib Arts  1290          35      19948       73    87   \n",
       "7          Middlebury    Lib Arts  1255          25      24718       65    89   \n",
       "8               Smith    Lib Arts  1195          57      25271       65    90   \n",
       "9            Davidson    Lib Arts  1230          36      17721       77    94   \n",
       "10             Vassar    Lib Arts  1287          43      20179       53    90   \n",
       "11           Carleton    Lib Arts  1300          40      19504       75    82   \n",
       "12  Claremont McKenna    Lib Arts  1260          36      20377       68    94   \n",
       "13            Oberlin    Lib Arts  1247          54      23591       64    98   \n",
       "14   Washington & Lee    Lib Arts  1234          29      17998       61    89   \n",
       "15           Grinnell    Lib Arts  1244          67      22301       65    79   \n",
       "16      Mount Holyoke    Lib Arts  1200          61      23358       47    83   \n",
       "17              Colby    Lib Arts  1200          46      18872       52    75   \n",
       "18           Hamilton    Lib Arts  1215          38      20722       51    86   \n",
       "19              Bates    Lib Arts  1240          36      17554       58    81   \n",
       "20          Haverford    Lib Arts  1285          35      19418       71    91   \n",
       "21            Colgate    Lib Arts  1258          38      17520       61    78   \n",
       "22          Bryn Mawr    Lib Arts  1255          56      18847       70    81   \n",
       "23         Occidental    Lib Arts  1170          49      20192       54    93   \n",
       "24            Barnard    Lib Arts  1220          53      17653       69    98   \n",
       "25            Harvard        Univ  1370          18      46918       90    99   \n",
       "26           Stanford        Univ  1370          18      61921       92    96   \n",
       "27               Yale        Univ  1350          19      52468       90    97   \n",
       "28          Princeton        Univ  1340          17      48123       89    99   \n",
       "30                MIT        Univ  1357          30      56766       95    98   \n",
       "31               Duke        Univ  1310          25      39504       91    95   \n",
       "32          Dartmouth        Univ  1306          25      35804       86   100   \n",
       "33            Cornell        Univ  1280          30      37137       85    90   \n",
       "34           Columbia        Univ  1268          29      45879       78    93   \n",
       "35       U of Chicago        Univ  1300          45      38937       74   100   \n",
       "36              Brown        Univ  1281          24      24201       80    98   \n",
       "37             U Penn        Univ  1280          41      30882       87    99   \n",
       "38           Berkeley        Univ  1176          37      23665       95    93   \n",
       "40               Rice        Univ  1327          24      26730       85    95   \n",
       "42              U Va.        Univ  1218          37      19365       77    91   \n",
       "43         Georgetown        Univ  1278          24      23115       79    89   \n",
       "44                UNC        Univ  1109          32      19684       82    84   \n",
       "45         U Michican        Univ  1195          60      21853       71    93   \n",
       "46    Carnegie Mellon        Univ  1225          64      33607       52    84   \n",
       "47       Northwestern        Univ  1230          47      28851       77    79   \n",
       "48  Washington U (MO)        Univ  1225          54      39883       71    98   \n",
       "49     U of Rochester        Univ  1155          56      38597       52    96   \n",
       "\n",
       "    Grad%  \n",
       "0      93  \n",
       "1      88  \n",
       "2      93  \n",
       "3      90  \n",
       "4      86  \n",
       "5      80  \n",
       "6      91  \n",
       "7      92  \n",
       "8      87  \n",
       "9      89  \n",
       "10     84  \n",
       "11     80  \n",
       "12     74  \n",
       "13     77  \n",
       "14     78  \n",
       "15     73  \n",
       "16     83  \n",
       "17     84  \n",
       "18     85  \n",
       "19     88  \n",
       "20     87  \n",
       "21     85  \n",
       "22     84  \n",
       "23     72  \n",
       "24     80  \n",
       "25     90  \n",
       "26     88  \n",
       "27     93  \n",
       "28     93  \n",
       "30     86  \n",
       "31     91  \n",
       "32     95  \n",
       "33     83  \n",
       "34     90  \n",
       "35     73  \n",
       "36     90  \n",
       "37     86  \n",
       "38     68  \n",
       "40     88  \n",
       "42     88  \n",
       "43     89  \n",
       "44     73  \n",
       "45     77  \n",
       "46     77  \n",
       "47     82  \n",
       "48     76  \n",
       "49     73  "
      ]
     },
     "execution_count": 180,
     "metadata": {},
     "output_type": "execute_result"
    }
   ],
   "source": [
    "df_without_outliers = df.drop(df[(df['$/Student'] == max(df['$/Student'])) |\n",
    "           (df['Grad%'] == min(df['Grad%'])) |\n",
    "           (df['%PhD'] == min(df['%PhD']))].index)\n",
    "\n",
    "df_without_outliers"
   ]
  },
  {
   "cell_type": "markdown",
   "metadata": {},
   "source": [
    "Видно, что в полученных данных уже отсутствуют строчки с индексами 29, 39, 41, значит, выбросы удалены. Построим снова гистограммы и боксплоты для \"$/Student\", \"%Phd\", \"Grad%\" (для остальных признаков ничего сильно не поменяется):"
   ]
  },
  {
   "cell_type": "code",
   "execution_count": 182,
   "metadata": {},
   "outputs": [
    {
     "data": {
      "text/plain": [
       "<matplotlib.text.Text at 0x1aca2ae1550>"
      ]
     },
     "execution_count": 182,
     "metadata": {},
     "output_type": "execute_result"
    },
    {
     "data": {
      "image/png": "[encoded data removed]",
      "text/plain": [
       "<matplotlib.figure.Figure at 0x1aca29d6be0>"
      ]
     },
     "metadata": {},
     "output_type": "display_data"
    }
   ],
   "source": [
    "df_without_outliers['$/Student'].hist()\n",
    "plt.title('$/Student')"
   ]
  },
  {
   "cell_type": "code",
   "execution_count": 183,
   "metadata": {},
   "outputs": [
    {
     "data": {
      "text/plain": [
       "<matplotlib.text.Text at 0x1aca2bb0160>"
      ]
     },
     "execution_count": 183,
     "metadata": {},
     "output_type": "execute_result"
    },
    {
     "data": {
      "image/png": "[encoded data removed]",
      "text/plain": [
       "<matplotlib.figure.Figure at 0x1aca2b111d0>"
      ]
     },
     "metadata": {},
     "output_type": "display_data"
    }
   ],
   "source": [
    "df_without_outliers['%PhD'].hist()\n",
    "plt.title('%PhD')"
   ]
  },
  {
   "cell_type": "code",
   "execution_count": 181,
   "metadata": {},
   "outputs": [
    {
     "data": {
      "text/plain": [
       "<matplotlib.text.Text at 0x1aca2965048>"
      ]
     },
     "execution_count": 181,
     "metadata": {},
     "output_type": "execute_result"
    },
    {
     "data": {
      "image/png": "[encoded data removed]",
      "text/plain": [
       "<matplotlib.figure.Figure at 0x1aca2a2c7f0>"
      ]
     },
     "metadata": {},
     "output_type": "display_data"
    }
   ],
   "source": [
    "df_without_outliers['Grad%'].hist()\n",
    "plt.title('Grad%')"
   ]
  },
  {
   "cell_type": "markdown",
   "metadata": {},
   "source": [
    "В данных больше нет выбросов, мы победили!"
   ]
  },
  {
   "cell_type": "markdown",
   "metadata": {},
   "source": [
    "Построим теперь матрицу корреляций, чтобы посмотреть на взаимосвязь между признаками:"
   ]
  },
  {
   "cell_type": "code",
   "execution_count": 184,
   "metadata": {},
   "outputs": [
    {
     "data": {
      "text/html": [
       "<div>\n",
       "<style>\n",
       "    .dataframe thead tr:only-child th {\n",
       "        text-align: right;\n",
       "    }\n",
       "\n",
       "    .dataframe thead th {\n",
       "        text-align: left;\n",
       "    }\n",
       "\n",
       "    .dataframe tbody tr th {\n",
       "        vertical-align: top;\n",
       "    }\n",
       "</style>\n",
       "<table border=\"1\" class=\"dataframe\">\n",
       "  <thead>\n",
       "    <tr style=\"text-align: right;\">\n",
       "      <th></th>\n",
       "      <th>SAT</th>\n",
       "      <th>Acceptance</th>\n",
       "      <th>$/Student</th>\n",
       "      <th>Top 10%</th>\n",
       "      <th>%PhD</th>\n",
       "      <th>Grad%</th>\n",
       "    </tr>\n",
       "  </thead>\n",
       "  <tbody>\n",
       "    <tr>\n",
       "      <th>SAT</th>\n",
       "      <td>1.000000</td>\n",
       "      <td>-0.606753</td>\n",
       "      <td>0.579423</td>\n",
       "      <td>0.509260</td>\n",
       "      <td>0.220944</td>\n",
       "      <td>0.569126</td>\n",
       "    </tr>\n",
       "    <tr>\n",
       "      <th>Acceptance</th>\n",
       "      <td>-0.606753</td>\n",
       "      <td>1.000000</td>\n",
       "      <td>-0.288819</td>\n",
       "      <td>-0.616328</td>\n",
       "      <td>-0.311665</td>\n",
       "      <td>-0.562211</td>\n",
       "    </tr>\n",
       "    <tr>\n",
       "      <th>$/Student</th>\n",
       "      <td>0.579423</td>\n",
       "      <td>-0.288819</td>\n",
       "      <td>1.000000</td>\n",
       "      <td>0.509948</td>\n",
       "      <td>0.286665</td>\n",
       "      <td>0.051055</td>\n",
       "    </tr>\n",
       "    <tr>\n",
       "      <th>Top 10%</th>\n",
       "      <td>0.509260</td>\n",
       "      <td>-0.616328</td>\n",
       "      <td>0.509948</td>\n",
       "      <td>1.000000</td>\n",
       "      <td>0.448616</td>\n",
       "      <td>0.161335</td>\n",
       "    </tr>\n",
       "    <tr>\n",
       "      <th>%PhD</th>\n",
       "      <td>0.220944</td>\n",
       "      <td>-0.311665</td>\n",
       "      <td>0.286665</td>\n",
       "      <td>0.448616</td>\n",
       "      <td>1.000000</td>\n",
       "      <td>-0.055403</td>\n",
       "    </tr>\n",
       "    <tr>\n",
       "      <th>Grad%</th>\n",
       "      <td>0.569126</td>\n",
       "      <td>-0.562211</td>\n",
       "      <td>0.051055</td>\n",
       "      <td>0.161335</td>\n",
       "      <td>-0.055403</td>\n",
       "      <td>1.000000</td>\n",
       "    </tr>\n",
       "  </tbody>\n",
       "</table>\n",
       "</div>"
      ],
      "text/plain": [
       "                 SAT  Acceptance  $/Student   Top 10%      %PhD     Grad%\n",
       "SAT         1.000000   -0.606753   0.579423  0.509260  0.220944  0.569126\n",
       "Acceptance -0.606753    1.000000  -0.288819 -0.616328 -0.311665 -0.562211\n",
       "$/Student   0.579423   -0.288819   1.000000  0.509948  0.286665  0.051055\n",
       "Top 10%     0.509260   -0.616328   0.509948  1.000000  0.448616  0.161335\n",
       "%PhD        0.220944   -0.311665   0.286665  0.448616  1.000000 -0.055403\n",
       "Grad%       0.569126   -0.562211   0.051055  0.161335 -0.055403  1.000000"
      ]
     },
     "execution_count": 184,
     "metadata": {},
     "output_type": "execute_result"
    }
   ],
   "source": [
    "df.corr()"
   ]
  },
  {
   "cell_type": "markdown",
   "metadata": {},
   "source": [
    "Попробуем объяснить полученные результаты.\n",
    "\n",
    "* SAT дает довольно заметные по абсолютному значению коэффициенты корреляции почти со всеми признаками (кроме %PhD, который не коррелирует ни с чем). Причем корреляция с Acceptance отрицательна. Возможно, это связано с тем, что принятие в учебное заведение студентов происходит в результате отбора. Соответственно, чем строже был отбор, т.е. чем более сильных студентов туда набрали, тем их, естественно, набрали меньше, но тем лучшие результаты они показали в результате экзаменов. Видимо, аналогично можно объяснить, почему Acceptance дает отрицательную корреляцию со всеми остальными признаками.\n",
    "* Довольно заметная положительная корреляция \"SAT\" и \"$/Student\" может объясняться выплатой стипендий студентам, показывающим хорошие результаты. Соответственно, чем больше хороших студентов, тем больше на них тратится денег.\n",
    "* Также кажется вполне логичным, что \"SAT\" дает заметную положительную корреляцию с \"Top 10%\" и \"Grad%\". Потому что это все в некотором смысле показатели того, насколько студенты был \"хорошими\" в учебном заведении. Однако вот \"Top 10%\" и \"Grad%\" не являются сильно коррелированными между собой, и это тоже кажется логичным, ведь университет заканчивают далеко не только студенты из высоких позиций рейтинга."
   ]
  }
 ],
 "metadata": {
  "kernelspec": {
   "display_name": "Python 3",
   "language": "python",
   "name": "python3"
  },
  "language_info": {
   "codemirror_mode": {
    "name": "ipython",
    "version": 3
   },
   "file_extension": ".py",
   "mimetype": "text/x-python",
   "name": "python",
   "nbconvert_exporter": "python",
   "pygments_lexer": "ipython3",
   "version": "3.6.2"
  }
 },
 "nbformat": 4,
 "nbformat_minor": 2
}
